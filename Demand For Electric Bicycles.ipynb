{
 "cells": [
  {
   "cell_type": "markdown",
   "id": "dc9b68fd",
   "metadata": {},
   "source": [
    "# Data Preprocessing"
   ]
  },
  {
   "cell_type": "code",
   "execution_count": 26,
   "id": "c1238f80",
   "metadata": {},
   "outputs": [
    {
     "data": {
      "text/html": [
       "<div>\n",
       "<style scoped>\n",
       "    .dataframe tbody tr th:only-of-type {\n",
       "        vertical-align: middle;\n",
       "    }\n",
       "\n",
       "    .dataframe tbody tr th {\n",
       "        vertical-align: top;\n",
       "    }\n",
       "\n",
       "    .dataframe thead th {\n",
       "        text-align: right;\n",
       "    }\n",
       "</style>\n",
       "<table border=\"1\" class=\"dataframe\">\n",
       "  <thead>\n",
       "    <tr style=\"text-align: right;\">\n",
       "      <th></th>\n",
       "      <th>datetime</th>\n",
       "      <th>season</th>\n",
       "      <th>holiday</th>\n",
       "      <th>workingday</th>\n",
       "      <th>weather</th>\n",
       "      <th>temp</th>\n",
       "      <th>atemp</th>\n",
       "      <th>humidity</th>\n",
       "      <th>windspeed</th>\n",
       "      <th>casual</th>\n",
       "      <th>registered</th>\n",
       "      <th>count</th>\n",
       "    </tr>\n",
       "  </thead>\n",
       "  <tbody>\n",
       "    <tr>\n",
       "      <th>0</th>\n",
       "      <td>2011-01-01 00:00:00</td>\n",
       "      <td>1</td>\n",
       "      <td>0</td>\n",
       "      <td>0</td>\n",
       "      <td>1</td>\n",
       "      <td>9.84</td>\n",
       "      <td>14.395</td>\n",
       "      <td>81</td>\n",
       "      <td>0.0</td>\n",
       "      <td>3</td>\n",
       "      <td>13</td>\n",
       "      <td>16</td>\n",
       "    </tr>\n",
       "    <tr>\n",
       "      <th>1</th>\n",
       "      <td>2011-01-01 01:00:00</td>\n",
       "      <td>1</td>\n",
       "      <td>0</td>\n",
       "      <td>0</td>\n",
       "      <td>1</td>\n",
       "      <td>9.02</td>\n",
       "      <td>13.635</td>\n",
       "      <td>80</td>\n",
       "      <td>0.0</td>\n",
       "      <td>8</td>\n",
       "      <td>32</td>\n",
       "      <td>40</td>\n",
       "    </tr>\n",
       "    <tr>\n",
       "      <th>2</th>\n",
       "      <td>2011-01-01 02:00:00</td>\n",
       "      <td>1</td>\n",
       "      <td>0</td>\n",
       "      <td>0</td>\n",
       "      <td>1</td>\n",
       "      <td>9.02</td>\n",
       "      <td>13.635</td>\n",
       "      <td>80</td>\n",
       "      <td>0.0</td>\n",
       "      <td>5</td>\n",
       "      <td>27</td>\n",
       "      <td>32</td>\n",
       "    </tr>\n",
       "    <tr>\n",
       "      <th>3</th>\n",
       "      <td>2011-01-01 03:00:00</td>\n",
       "      <td>1</td>\n",
       "      <td>0</td>\n",
       "      <td>0</td>\n",
       "      <td>1</td>\n",
       "      <td>9.84</td>\n",
       "      <td>14.395</td>\n",
       "      <td>75</td>\n",
       "      <td>0.0</td>\n",
       "      <td>3</td>\n",
       "      <td>10</td>\n",
       "      <td>13</td>\n",
       "    </tr>\n",
       "    <tr>\n",
       "      <th>4</th>\n",
       "      <td>2011-01-01 04:00:00</td>\n",
       "      <td>1</td>\n",
       "      <td>0</td>\n",
       "      <td>0</td>\n",
       "      <td>1</td>\n",
       "      <td>9.84</td>\n",
       "      <td>14.395</td>\n",
       "      <td>75</td>\n",
       "      <td>0.0</td>\n",
       "      <td>0</td>\n",
       "      <td>1</td>\n",
       "      <td>1</td>\n",
       "    </tr>\n",
       "  </tbody>\n",
       "</table>\n",
       "</div>"
      ],
      "text/plain": [
       "              datetime  season  holiday  workingday  weather  temp   atemp  \\\n",
       "0  2011-01-01 00:00:00       1        0           0        1  9.84  14.395   \n",
       "1  2011-01-01 01:00:00       1        0           0        1  9.02  13.635   \n",
       "2  2011-01-01 02:00:00       1        0           0        1  9.02  13.635   \n",
       "3  2011-01-01 03:00:00       1        0           0        1  9.84  14.395   \n",
       "4  2011-01-01 04:00:00       1        0           0        1  9.84  14.395   \n",
       "\n",
       "   humidity  windspeed  casual  registered  count  \n",
       "0        81        0.0       3          13     16  \n",
       "1        80        0.0       8          32     40  \n",
       "2        80        0.0       5          27     32  \n",
       "3        75        0.0       3          10     13  \n",
       "4        75        0.0       0           1      1  "
      ]
     },
     "execution_count": 26,
     "metadata": {},
     "output_type": "execute_result"
    }
   ],
   "source": [
    "import pandas as pd\n",
    "\n",
    "data = pd.read_csv('./datasets/bike_sharing.csv')\n",
    "data.head()\n"
   ]
  },
  {
   "cell_type": "code",
   "execution_count": 27,
   "id": "7b9fe31e",
   "metadata": {},
   "outputs": [
    {
     "name": "stdout",
     "output_type": "stream",
     "text": [
      "datetime      0\n",
      "season        0\n",
      "holiday       0\n",
      "workingday    0\n",
      "weather       0\n",
      "temp          0\n",
      "atemp         0\n",
      "humidity      0\n",
      "windspeed     0\n",
      "casual        0\n",
      "registered    0\n",
      "count         0\n",
      "dtype: int64\n"
     ]
    }
   ],
   "source": [
    "missing_data = data.isnull().sum()\n",
    "print(missing_data)\n",
    "\n",
    "#checking for missing data"
   ]
  },
  {
   "cell_type": "code",
   "execution_count": 28,
   "id": "47c6939a",
   "metadata": {},
   "outputs": [],
   "source": [
    "data['datetime'] = pd.to_datetime(data['datetime'])\n",
    "data['hour'] = data['datetime'].dt.hour\n",
    "data['day'] = data['datetime'].dt.day\n",
    "data['month'] = data['datetime'].dt.month\n",
    "data['year'] = data['datetime'].dt.year\n",
    "# extracting features like hour, day, month, year"
   ]
  },
  {
   "cell_type": "code",
   "execution_count": 29,
   "id": "8a65830b",
   "metadata": {},
   "outputs": [
    {
     "data": {
      "image/png": "[encoded data removed]",
      "text/plain": [
       "<Figure size 640x480 with 1 Axes>"
      ]
     },
     "metadata": {},
     "output_type": "display_data"
    }
   ],
   "source": [
    "import matplotlib.pyplot as plt\n",
    "import seaborn as sns\n",
    "\n",
    "sns.boxplot(x=data['count'])\n",
    "plt.show()\n",
    "\n",
    "#many outliers present but this could just be due to special events or rush hour "
   ]
  },
  {
   "cell_type": "code",
   "execution_count": 30,
   "id": "ed6d06c6",
   "metadata": {},
   "outputs": [
    {
     "name": "stdout",
     "output_type": "stream",
     "text": [
      "True\n"
     ]
    }
   ],
   "source": [
    "data['calculated_count'] = data['casual'] + data['registered']\n",
    "\n",
    "all_rows_match = (data['calculated_count'] == data['count']).all()\n",
    "print(all_rows_match)\n",
    "\n",
    "#ensuring that the count column is indeed the sum of the casual and registered columns"
   ]
  },
  {
   "cell_type": "markdown",
   "id": "97ed9d9a",
   "metadata": {},
   "source": [
    "# Exploratory Data Analysis\n"
   ]
  },
  {
   "cell_type": "code",
   "execution_count": 31,
   "id": "d9c92ffd",
   "metadata": {},
   "outputs": [
    {
     "data": {
      "text/html": [
       "<div>\n",
       "<style scoped>\n",
       "    .dataframe tbody tr th:only-of-type {\n",
       "        vertical-align: middle;\n",
       "    }\n",
       "\n",
       "    .dataframe tbody tr th {\n",
       "        vertical-align: top;\n",
       "    }\n",
       "\n",
       "    .dataframe thead th {\n",
       "        text-align: right;\n",
       "    }\n",
       "</style>\n",
       "<table border=\"1\" class=\"dataframe\">\n",
       "  <thead>\n",
       "    <tr style=\"text-align: right;\">\n",
       "      <th></th>\n",
       "      <th>season</th>\n",
       "      <th>holiday</th>\n",
       "      <th>workingday</th>\n",
       "      <th>weather</th>\n",
       "      <th>temp</th>\n",
       "      <th>atemp</th>\n",
       "      <th>humidity</th>\n",
       "      <th>windspeed</th>\n",
       "      <th>casual</th>\n",
       "      <th>registered</th>\n",
       "      <th>count</th>\n",
       "      <th>hour</th>\n",
       "      <th>day</th>\n",
       "      <th>month</th>\n",
       "      <th>year</th>\n",
       "      <th>calculated_count</th>\n",
       "    </tr>\n",
       "  </thead>\n",
       "  <tbody>\n",
       "    <tr>\n",
       "      <th>count</th>\n",
       "      <td>10886.000000</td>\n",
       "      <td>10886.000000</td>\n",
       "      <td>10886.000000</td>\n",
       "      <td>10886.000000</td>\n",
       "      <td>10886.00000</td>\n",
       "      <td>10886.000000</td>\n",
       "      <td>10886.000000</td>\n",
       "      <td>10886.000000</td>\n",
       "      <td>10886.000000</td>\n",
       "      <td>10886.000000</td>\n",
       "      <td>10886.000000</td>\n",
       "      <td>10886.000000</td>\n",
       "      <td>10886.000000</td>\n",
       "      <td>10886.000000</td>\n",
       "      <td>10886.000000</td>\n",
       "      <td>10886.000000</td>\n",
       "    </tr>\n",
       "    <tr>\n",
       "      <th>mean</th>\n",
       "      <td>2.506614</td>\n",
       "      <td>0.028569</td>\n",
       "      <td>0.680875</td>\n",
       "      <td>1.418427</td>\n",
       "      <td>20.23086</td>\n",
       "      <td>23.655084</td>\n",
       "      <td>61.886460</td>\n",
       "      <td>12.799395</td>\n",
       "      <td>36.021955</td>\n",
       "      <td>155.552177</td>\n",
       "      <td>191.574132</td>\n",
       "      <td>11.541613</td>\n",
       "      <td>9.992559</td>\n",
       "      <td>6.521495</td>\n",
       "      <td>2011.501929</td>\n",
       "      <td>191.574132</td>\n",
       "    </tr>\n",
       "    <tr>\n",
       "      <th>std</th>\n",
       "      <td>1.116174</td>\n",
       "      <td>0.166599</td>\n",
       "      <td>0.466159</td>\n",
       "      <td>0.633839</td>\n",
       "      <td>7.79159</td>\n",
       "      <td>8.474601</td>\n",
       "      <td>19.245033</td>\n",
       "      <td>8.164537</td>\n",
       "      <td>49.960477</td>\n",
       "      <td>151.039033</td>\n",
       "      <td>181.144454</td>\n",
       "      <td>6.915838</td>\n",
       "      <td>5.476608</td>\n",
       "      <td>3.444373</td>\n",
       "      <td>0.500019</td>\n",
       "      <td>181.144454</td>\n",
       "    </tr>\n",
       "    <tr>\n",
       "      <th>min</th>\n",
       "      <td>1.000000</td>\n",
       "      <td>0.000000</td>\n",
       "      <td>0.000000</td>\n",
       "      <td>1.000000</td>\n",
       "      <td>0.82000</td>\n",
       "      <td>0.760000</td>\n",
       "      <td>0.000000</td>\n",
       "      <td>0.000000</td>\n",
       "      <td>0.000000</td>\n",
       "      <td>0.000000</td>\n",
       "      <td>1.000000</td>\n",
       "      <td>0.000000</td>\n",
       "      <td>1.000000</td>\n",
       "      <td>1.000000</td>\n",
       "      <td>2011.000000</td>\n",
       "      <td>1.000000</td>\n",
       "    </tr>\n",
       "    <tr>\n",
       "      <th>25%</th>\n",
       "      <td>2.000000</td>\n",
       "      <td>0.000000</td>\n",
       "      <td>0.000000</td>\n",
       "      <td>1.000000</td>\n",
       "      <td>13.94000</td>\n",
       "      <td>16.665000</td>\n",
       "      <td>47.000000</td>\n",
       "      <td>7.001500</td>\n",
       "      <td>4.000000</td>\n",
       "      <td>36.000000</td>\n",
       "      <td>42.000000</td>\n",
       "      <td>6.000000</td>\n",
       "      <td>5.000000</td>\n",
       "      <td>4.000000</td>\n",
       "      <td>2011.000000</td>\n",
       "      <td>42.000000</td>\n",
       "    </tr>\n",
       "    <tr>\n",
       "      <th>50%</th>\n",
       "      <td>3.000000</td>\n",
       "      <td>0.000000</td>\n",
       "      <td>1.000000</td>\n",
       "      <td>1.000000</td>\n",
       "      <td>20.50000</td>\n",
       "      <td>24.240000</td>\n",
       "      <td>62.000000</td>\n",
       "      <td>12.998000</td>\n",
       "      <td>17.000000</td>\n",
       "      <td>118.000000</td>\n",
       "      <td>145.000000</td>\n",
       "      <td>12.000000</td>\n",
       "      <td>10.000000</td>\n",
       "      <td>7.000000</td>\n",
       "      <td>2012.000000</td>\n",
       "      <td>145.000000</td>\n",
       "    </tr>\n",
       "    <tr>\n",
       "      <th>75%</th>\n",
       "      <td>4.000000</td>\n",
       "      <td>0.000000</td>\n",
       "      <td>1.000000</td>\n",
       "      <td>2.000000</td>\n",
       "      <td>26.24000</td>\n",
       "      <td>31.060000</td>\n",
       "      <td>77.000000</td>\n",
       "      <td>16.997900</td>\n",
       "      <td>49.000000</td>\n",
       "      <td>222.000000</td>\n",
       "      <td>284.000000</td>\n",
       "      <td>18.000000</td>\n",
       "      <td>15.000000</td>\n",
       "      <td>10.000000</td>\n",
       "      <td>2012.000000</td>\n",
       "      <td>284.000000</td>\n",
       "    </tr>\n",
       "    <tr>\n",
       "      <th>max</th>\n",
       "      <td>4.000000</td>\n",
       "      <td>1.000000</td>\n",
       "      <td>1.000000</td>\n",
       "      <td>4.000000</td>\n",
       "      <td>41.00000</td>\n",
       "      <td>45.455000</td>\n",
       "      <td>100.000000</td>\n",
       "      <td>56.996900</td>\n",
       "      <td>367.000000</td>\n",
       "      <td>886.000000</td>\n",
       "      <td>977.000000</td>\n",
       "      <td>23.000000</td>\n",
       "      <td>19.000000</td>\n",
       "      <td>12.000000</td>\n",
       "      <td>2012.000000</td>\n",
       "      <td>977.000000</td>\n",
       "    </tr>\n",
       "  </tbody>\n",
       "</table>\n",
       "</div>"
      ],
      "text/plain": [
       "             season       holiday    workingday       weather         temp  \\\n",
       "count  10886.000000  10886.000000  10886.000000  10886.000000  10886.00000   \n",
       "mean       2.506614      0.028569      0.680875      1.418427     20.23086   \n",
       "std        1.116174      0.166599      0.466159      0.633839      7.79159   \n",
       "min        1.000000      0.000000      0.000000      1.000000      0.82000   \n",
       "25%        2.000000      0.000000      0.000000      1.000000     13.94000   \n",
       "50%        3.000000      0.000000      1.000000      1.000000     20.50000   \n",
       "75%        4.000000      0.000000      1.000000      2.000000     26.24000   \n",
       "max        4.000000      1.000000      1.000000      4.000000     41.00000   \n",
       "\n",
       "              atemp      humidity     windspeed        casual    registered  \\\n",
       "count  10886.000000  10886.000000  10886.000000  10886.000000  10886.000000   \n",
       "mean      23.655084     61.886460     12.799395     36.021955    155.552177   \n",
       "std        8.474601     19.245033      8.164537     49.960477    151.039033   \n",
       "min        0.760000      0.000000      0.000000      0.000000      0.000000   \n",
       "25%       16.665000     47.000000      7.001500      4.000000     36.000000   \n",
       "50%       24.240000     62.000000     12.998000     17.000000    118.000000   \n",
       "75%       31.060000     77.000000     16.997900     49.000000    222.000000   \n",
       "max       45.455000    100.000000     56.996900    367.000000    886.000000   \n",
       "\n",
       "              count          hour           day         month          year  \\\n",
       "count  10886.000000  10886.000000  10886.000000  10886.000000  10886.000000   \n",
       "mean     191.574132     11.541613      9.992559      6.521495   2011.501929   \n",
       "std      181.144454      6.915838      5.476608      3.444373      0.500019   \n",
       "min        1.000000      0.000000      1.000000      1.000000   2011.000000   \n",
       "25%       42.000000      6.000000      5.000000      4.000000   2011.000000   \n",
       "50%      145.000000     12.000000     10.000000      7.000000   2012.000000   \n",
       "75%      284.000000     18.000000     15.000000     10.000000   2012.000000   \n",
       "max      977.000000     23.000000     19.000000     12.000000   2012.000000   \n",
       "\n",
       "       calculated_count  \n",
       "count      10886.000000  \n",
       "mean         191.574132  \n",
       "std          181.144454  \n",
       "min            1.000000  \n",
       "25%           42.000000  \n",
       "50%          145.000000  \n",
       "75%          284.000000  \n",
       "max          977.000000  "
      ]
     },
     "execution_count": 31,
     "metadata": {},
     "output_type": "execute_result"
    }
   ],
   "source": [
    "data.describe()\n"
   ]
  },
  {
   "cell_type": "code",
   "execution_count": 32,
   "id": "5b786f61",
   "metadata": {},
   "outputs": [
    {
     "data": {
      "image/png": "[encoded data removed]",
      "text/plain": [
       "<Figure size 1000x800 with 2 Axes>"
      ]
     },
     "metadata": {},
     "output_type": "display_data"
    }
   ],
   "source": [
    "selected_columns = ['season', 'holiday', 'workingday', 'weather', 'temp', 'atemp', 'windspeed', 'count']\n",
    "correlation_data = data[selected_columns]\n",
    "\n",
    "corr_matrix = correlation_data.corr()\n",
    "\n",
    "plt.figure(figsize=(10, 8))  # Set the size of the figure\n",
    "sns.heatmap(corr_matrix, annot=True, cmap='coolwarm', vmin=-1, vmax=1)\n",
    "plt.title(\"Correlation Heatmap\")\n",
    "plt.show()"
   ]
  },
  {
   "cell_type": "markdown",
   "id": "ee99798e",
   "metadata": {},
   "source": [
    "# Regression Analysis"
   ]
  },
  {
   "cell_type": "code",
   "execution_count": 33,
   "id": "ef3e6aed",
   "metadata": {},
   "outputs": [],
   "source": [
    "from sklearn.model_selection import train_test_split\n",
    "\n",
    "X = data[['season', 'holiday', 'workingday', 'weather', 'temp', 'atemp', 'humidity', 'windspeed']]\n",
    "y = data['count']\n",
    "\n",
    "X_train, X_test, y_train, y_test = train_test_split(X, y, test_size=0.2, random_state=0)\n",
    "\n",
    "#creating the first regression model"
   ]
  },
  {
   "cell_type": "code",
   "execution_count": 34,
   "id": "2c687c55",
   "metadata": {},
   "outputs": [
    {
     "name": "stdout",
     "output_type": "stream",
     "text": [
      "                            OLS Regression Results                            \n",
      "==============================================================================\n",
      "Dep. Variable:                  count   R-squared:                       0.260\n",
      "Model:                            OLS   Adj. R-squared:                  0.260\n",
      "Method:                 Least Squares   F-statistic:                     382.5\n",
      "Date:                Thu, 19 Oct 2023   Prob (F-statistic):               0.00\n",
      "Time:                        04:30:07   Log-Likelihood:                -56305.\n",
      "No. Observations:                8708   AIC:                         1.126e+05\n",
      "Df Residuals:                    8699   BIC:                         1.127e+05\n",
      "Df Model:                           8                                         \n",
      "Covariance Type:            nonrobust                                         \n",
      "==============================================================================\n",
      "                 coef    std err          t      P>|t|      [0.025      0.975]\n",
      "------------------------------------------------------------------------------\n",
      "const        137.6216      9.724     14.152      0.000     118.559     156.684\n",
      "season        23.6582      1.591     14.870      0.000      20.539      26.777\n",
      "holiday       -8.0721     10.205     -0.791      0.429     -28.075      11.931\n",
      "workingday     0.8861      3.701      0.239      0.811      -6.369       8.141\n",
      "weather        5.5319      2.959      1.869      0.062      -0.269      11.333\n",
      "temp           2.5399      1.240      2.048      0.041       0.109       4.971\n",
      "atemp          4.9433      1.139      4.339      0.000       2.710       7.177\n",
      "humidity      -3.0641      0.104    -29.392      0.000      -3.268      -2.860\n",
      "windspeed      0.5914      0.222      2.661      0.008       0.156       1.027\n",
      "==============================================================================\n",
      "Omnibus:                     1704.941   Durbin-Watson:                   2.020\n",
      "Prob(Omnibus):                  0.000   Jarque-Bera (JB):             3291.317\n",
      "Skew:                           1.195   Prob(JB):                         0.00\n",
      "Kurtosis:                       4.833   Cond. No.                         459.\n",
      "==============================================================================\n",
      "\n",
      "Notes:\n",
      "[1] Standard Errors assume that the covariance matrix of the errors is correctly specified.\n"
     ]
    }
   ],
   "source": [
    "from sklearn.linear_model import LinearRegression\n",
    "import statsmodels.api as sm\n",
    "\n",
    "X_train_sm = sm.add_constant(X_train)\n",
    "\n",
    "model = sm.OLS(y_train, X_train_sm).fit()\n",
    "print(model.summary())\n"
   ]
  },
  {
   "cell_type": "code",
   "execution_count": 35,
   "id": "6cf444f9",
   "metadata": {},
   "outputs": [],
   "source": [
    "X_2 = data[['season', 'holiday', 'workingday', 'weather', 'atemp', 'windspeed']]\n",
    "y_2 = data['count']\n",
    "\n",
    "#got rid of temp and humidity to avoid multicollinearity"
   ]
  },
  {
   "cell_type": "code",
   "execution_count": 36,
   "id": "249ca411",
   "metadata": {},
   "outputs": [
    {
     "name": "stdout",
     "output_type": "stream",
     "text": [
      "                            OLS Regression Results                            \n",
      "==============================================================================\n",
      "Dep. Variable:                  count   R-squared:                       0.186\n",
      "Model:                            OLS   Adj. R-squared:                  0.185\n",
      "Method:                 Least Squares   F-statistic:                     413.9\n",
      "Date:                Thu, 19 Oct 2023   Prob (F-statistic):               0.00\n",
      "Time:                        04:30:07   Log-Likelihood:                -70926.\n",
      "No. Observations:               10886   AIC:                         1.419e+05\n",
      "Df Residuals:                   10879   BIC:                         1.419e+05\n",
      "Df Model:                           6                                         \n",
      "Covariance Type:            nonrobust                                         \n",
      "==============================================================================\n",
      "                 coef    std err          t      P>|t|      [0.025      0.975]\n",
      "------------------------------------------------------------------------------\n",
      "const        -24.7849      7.436     -3.333      0.001     -39.361     -10.209\n",
      "season        14.1486      1.471      9.618      0.000      11.265      17.032\n",
      "holiday       -7.7433      9.721     -0.797      0.426     -26.799      11.312\n",
      "workingday     1.2963      3.476      0.373      0.709      -5.517       8.110\n",
      "weather      -31.4899      2.478    -12.705      0.000     -36.348     -26.632\n",
      "atemp          7.8726      0.192     40.956      0.000       7.496       8.249\n",
      "windspeed      3.0214      0.194     15.564      0.000       2.641       3.402\n",
      "==============================================================================\n",
      "Omnibus:                     1870.899   Durbin-Watson:                   0.396\n",
      "Prob(Omnibus):                  0.000   Jarque-Bera (JB):             3256.054\n",
      "Skew:                           1.115   Prob(JB):                         0.00\n",
      "Kurtosis:                       4.485   Cond. No.                         178.\n",
      "==============================================================================\n",
      "\n",
      "Notes:\n",
      "[1] Standard Errors assume that the covariance matrix of the errors is correctly specified.\n"
     ]
    }
   ],
   "source": [
    "X_const_2 = sm.add_constant(X_2)\n",
    "\n",
    "model_new = sm.OLS(y_2, X_const_2).fit()\n",
    "print(model_new.summary())"
   ]
  },
  {
   "cell_type": "code",
   "execution_count": 37,
   "id": "1679d1bb",
   "metadata": {},
   "outputs": [],
   "source": [
    "X_3 = data[['season', 'holiday', 'workingday', 'weather', 'atemp', 'windspeed', 'hour', 'year']]\n",
    "y_3 = data['count']\n",
    "\n",
    "# added hour and year predictors"
   ]
  },
  {
   "cell_type": "code",
   "execution_count": 38,
   "id": "cfc294de",
   "metadata": {},
   "outputs": [
    {
     "name": "stdout",
     "output_type": "stream",
     "text": [
      "                            OLS Regression Results                            \n",
      "==============================================================================\n",
      "Dep. Variable:                  count   R-squared:                       0.358\n",
      "Model:                            OLS   Adj. R-squared:                  0.357\n",
      "Method:                 Least Squares   F-statistic:                     756.6\n",
      "Date:                Thu, 19 Oct 2023   Prob (F-statistic):               0.00\n",
      "Time:                        04:30:08   Log-Likelihood:                -69637.\n",
      "No. Observations:               10886   AIC:                         1.393e+05\n",
      "Df Residuals:                   10877   BIC:                         1.394e+05\n",
      "Df Model:                           8                                         \n",
      "Covariance Type:            nonrobust                                         \n",
      "==============================================================================\n",
      "                 coef    std err          t      P>|t|      [0.025      0.975]\n",
      "------------------------------------------------------------------------------\n",
      "const      -1.786e+05   5612.993    -31.824      0.000    -1.9e+05   -1.68e+05\n",
      "season        16.5149      1.308     12.629      0.000      13.952      19.078\n",
      "holiday      -10.8523      8.637     -1.256      0.209     -27.783       6.078\n",
      "workingday     1.7475      3.088      0.566      0.571      -4.306       7.801\n",
      "weather      -29.4144      2.202    -13.357      0.000     -33.731     -25.098\n",
      "atemp          6.3960      0.173     36.953      0.000       6.057       6.735\n",
      "windspeed      1.9398      0.175     11.116      0.000       1.598       2.282\n",
      "hour           9.0400      0.206     43.893      0.000       8.636       9.444\n",
      "year          88.7597      2.790     31.808      0.000      83.290      94.230\n",
      "==============================================================================\n",
      "Omnibus:                     1841.516   Durbin-Watson:                   0.557\n",
      "Prob(Omnibus):                  0.000   Jarque-Bera (JB):             3245.931\n",
      "Skew:                           1.090   Prob(JB):                         0.00\n",
      "Kurtosis:                       4.550   Cond. No.                     8.11e+06\n",
      "==============================================================================\n",
      "\n",
      "Notes:\n",
      "[1] Standard Errors assume that the covariance matrix of the errors is correctly specified.\n",
      "[2] The condition number is large, 8.11e+06. This might indicate that there are\n",
      "strong multicollinearity or other numerical problems.\n"
     ]
    }
   ],
   "source": [
    "X_const_3 = sm.add_constant(X_3)\n",
    "\n",
    "model_new = sm.OLS(y_3, X_const_3).fit()\n",
    "print(model_new.summary())"
   ]
  },
  {
   "cell_type": "code",
   "execution_count": 39,
   "id": "63a1b022",
   "metadata": {},
   "outputs": [],
   "source": [
    "# One-hot encode the 'season' column\n",
    "data_encoded = pd.get_dummies(data, columns=['season'], prefix='season')"
   ]
  },
  {
   "cell_type": "code",
   "execution_count": 40,
   "id": "4dd3ec2d",
   "metadata": {},
   "outputs": [],
   "source": [
    "X_encoded = data_encoded[['season_1', 'season_2', 'season_3', 'season_4', 'holiday', 'workingday', 'weather', 'atemp', 'windspeed', 'hour', 'year']]\n",
    "y_encoded = data_encoded['count']"
   ]
  },
  {
   "cell_type": "code",
   "execution_count": 41,
   "id": "7037a997",
   "metadata": {},
   "outputs": [
    {
     "name": "stdout",
     "output_type": "stream",
     "text": [
      "                            OLS Regression Results                            \n",
      "==============================================================================\n",
      "Dep. Variable:                  count   R-squared:                       0.365\n",
      "Model:                            OLS   Adj. R-squared:                  0.364\n",
      "Method:                 Least Squares   F-statistic:                     624.5\n",
      "Date:                Thu, 19 Oct 2023   Prob (F-statistic):               0.00\n",
      "Time:                        04:30:08   Log-Likelihood:                -69576.\n",
      "No. Observations:               10886   AIC:                         1.392e+05\n",
      "Df Residuals:                   10875   BIC:                         1.393e+05\n",
      "Df Model:                          10                                         \n",
      "Covariance Type:            nonrobust                                         \n",
      "==============================================================================\n",
      "                 coef    std err          t      P>|t|      [0.025      0.975]\n",
      "------------------------------------------------------------------------------\n",
      "const      -1.402e+05   4479.325    -31.292      0.000   -1.49e+05   -1.31e+05\n",
      "season_1   -3.505e+04   1120.080    -31.297      0.000   -3.73e+04   -3.29e+04\n",
      "season_2   -3.504e+04   1119.750    -31.295      0.000   -3.72e+04   -3.28e+04\n",
      "season_3   -3.507e+04   1119.590    -31.323      0.000   -3.73e+04   -3.29e+04\n",
      "season_4     -3.5e+04   1119.920    -31.254      0.000   -3.72e+04   -3.28e+04\n",
      "holiday       -8.6996      8.593     -1.012      0.311     -25.543       8.144\n",
      "workingday     1.0450      3.072      0.340      0.734      -4.977       7.067\n",
      "weather      -29.8878      2.191    -13.643      0.000     -34.182     -25.594\n",
      "atemp          7.9808      0.266     30.016      0.000       7.460       8.502\n",
      "windspeed      1.8608      0.174     10.714      0.000       1.520       2.201\n",
      "hour           8.7718      0.208     42.193      0.000       8.364       9.179\n",
      "year          87.0646      2.784     31.275      0.000      81.608      92.521\n",
      "==============================================================================\n",
      "Omnibus:                     1900.425   Durbin-Watson:                   0.559\n",
      "Prob(Omnibus):                  0.000   Jarque-Bera (JB):             3416.528\n",
      "Skew:                           1.111   Prob(JB):                         0.00\n",
      "Kurtosis:                       4.610   Cond. No.                     4.83e+17\n",
      "==============================================================================\n",
      "\n",
      "Notes:\n",
      "[1] Standard Errors assume that the covariance matrix of the errors is correctly specified.\n",
      "[2] The smallest eigenvalue is 1.88e-25. This might indicate that there are\n",
      "strong multicollinearity problems or that the design matrix is singular.\n"
     ]
    }
   ],
   "source": [
    "X_const_encoded = sm.add_constant(X_encoded)\n",
    "\n",
    "model_encoded = sm.OLS(y_encoded, X_const_encoded).fit()\n",
    "\n",
    "print(model_encoded.summary())"
   ]
  },
  {
   "cell_type": "code",
   "execution_count": 42,
   "id": "cea81bb5",
   "metadata": {},
   "outputs": [],
   "source": [
    "X = data_encoded[['season_1', 'season_2', 'season_3', 'season_4', 'holiday', 'workingday', 'weather', 'atemp', 'windspeed', 'hour', 'year']]\n",
    "y = data_encoded['count']\n",
    "\n",
    "# Split the data into training and testing sets and create new model using the same predictors as the previous model\n",
    "X_train, X_test, y_train, y_test = train_test_split(X, y, test_size=0.2, random_state=0)"
   ]
  },
  {
   "cell_type": "code",
   "execution_count": 43,
   "id": "d93805aa",
   "metadata": {},
   "outputs": [
    {
     "name": "stdout",
     "output_type": "stream",
     "text": [
      "                            OLS Regression Results                            \n",
      "==============================================================================\n",
      "Dep. Variable:                  count   R-squared:                       0.364\n",
      "Model:                            OLS   Adj. R-squared:                  0.363\n",
      "Method:                 Least Squares   F-statistic:                     496.7\n",
      "Date:                Thu, 19 Oct 2023   Prob (F-statistic):               0.00\n",
      "Time:                        04:30:08   Log-Likelihood:                -55650.\n",
      "No. Observations:                8708   AIC:                         1.113e+05\n",
      "Df Residuals:                    8697   BIC:                         1.114e+05\n",
      "Df Model:                          10                                         \n",
      "Covariance Type:            nonrobust                                         \n",
      "==============================================================================\n",
      "                 coef    std err          t      P>|t|      [0.025      0.975]\n",
      "------------------------------------------------------------------------------\n",
      "const      -1.367e+05   5002.245    -27.337      0.000   -1.47e+05   -1.27e+05\n",
      "season_1    -3.42e+04   1250.827    -27.342      0.000   -3.67e+04   -3.17e+04\n",
      "season_2   -3.419e+04   1250.476    -27.341      0.000   -3.66e+04   -3.17e+04\n",
      "season_3   -3.421e+04   1250.293    -27.365      0.000   -3.67e+04   -3.18e+04\n",
      "season_4   -3.414e+04   1250.666    -27.301      0.000   -3.66e+04   -3.17e+04\n",
      "holiday       -9.8786      9.463     -1.044      0.297     -28.428       8.671\n",
      "workingday     2.6004      3.432      0.758      0.449      -4.127       9.328\n",
      "weather      -31.7982      2.468    -12.884      0.000     -36.636     -26.960\n",
      "atemp          8.0263      0.297     27.070      0.000       7.445       8.608\n",
      "windspeed      1.6994      0.193      8.828      0.000       1.322       2.077\n",
      "hour           8.7705      0.232     37.774      0.000       8.315       9.226\n",
      "year          84.9402      3.109     27.323      0.000      78.846      91.034\n",
      "==============================================================================\n",
      "Omnibus:                     1548.231   Durbin-Watson:                   2.008\n",
      "Prob(Omnibus):                  0.000   Jarque-Bera (JB):             2824.247\n",
      "Skew:                           1.121   Prob(JB):                         0.00\n",
      "Kurtosis:                       4.661   Cond. No.                     6.24e+17\n",
      "==============================================================================\n",
      "\n",
      "Notes:\n",
      "[1] Standard Errors assume that the covariance matrix of the errors is correctly specified.\n",
      "[2] The smallest eigenvalue is 9.04e-26. This might indicate that there are\n",
      "strong multicollinearity problems or that the design matrix is singular.\n"
     ]
    }
   ],
   "source": [
    "X_const_train = sm.add_constant(X_train)\n",
    "\n",
    "model_train = sm.OLS(y_train, X_const_train).fit()\n",
    "\n",
    "print(model_train.summary())\n"
   ]
  },
  {
   "cell_type": "code",
   "execution_count": 44,
   "id": "a5224f27",
   "metadata": {},
   "outputs": [],
   "source": [
    "# Add constant to the testing data\n",
    "X_const_test = sm.add_constant(X_test)\n",
    "\n",
    "# Make predictions\n",
    "y_pred = model_train.predict(X_const_test)"
   ]
  },
  {
   "cell_type": "code",
   "execution_count": 45,
   "id": "fdc8584a",
   "metadata": {},
   "outputs": [
    {
     "name": "stdout",
     "output_type": "stream",
     "text": [
      "Root Mean Squared Error (RMSE): 144.846521861537\n",
      "Mean Absolute Error (MAE): 109.38882541518412\n"
     ]
    }
   ],
   "source": [
    "from sklearn.metrics import mean_squared_error, mean_absolute_error\n",
    "import numpy as np\n",
    " \n",
    "rmse = np.sqrt(mean_squared_error(y_test, y_pred))\n",
    "mae = mean_absolute_error(y_test, y_pred)\n",
    "\n",
    "print(f\"Root Mean Squared Error (RMSE): {rmse}\")\n",
    "print(f\"Mean Absolute Error (MAE): {mae}\")"
   ]
  },
  {
   "cell_type": "code",
   "execution_count": 46,
   "id": "4153f5be",
   "metadata": {},
   "outputs": [
    {
     "name": "stdout",
     "output_type": "stream",
     "text": [
      "242.0\n"
     ]
    }
   ],
   "source": [
    "\n",
    "Q1 = data['count'].quantile(0.25)\n",
    "\n",
    "Q3 = data['count'].quantile(0.75)\n",
    "\n",
    "IQR = Q3 - Q1\n",
    "\n",
    "print(IQR)"
   ]
  },
  {
   "cell_type": "code",
   "execution_count": null,
   "id": "b60358fd",
   "metadata": {},
   "outputs": [],
   "source": []
  }
 ],
 "metadata": {
  "kernelspec": {
   "display_name": "Python 3 (ipykernel)",
   "language": "python",
   "name": "python3"
  },
  "language_info": {
   "codemirror_mode": {
    "name": "ipython",
    "version": 3
   },
   "file_extension": ".py",
   "mimetype": "text/x-python",
   "name": "python",
   "nbconvert_exporter": "python",
   "pygments_lexer": "ipython3",
   "version": "3.9.13"
  }
 },
 "nbformat": 4,
 "nbformat_minor": 5
}
